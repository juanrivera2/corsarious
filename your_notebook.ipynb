{
 "cells": [
  {
   "cell_type": "code",
   "execution_count": None,
   "metadata": {},
   "outputs": [],
   "source": [
    "# Papermill parameters\n",
    "param1 = None\n",
    "param2 = None"
   ]
  },
  {
   "cell_type": "code",
   "execution_count": None,
   "metadata": {},
   "outputs": [],
   "source": [
    "print(\"Running notebook with:\", param1, param2)"
   ]
  }
 ],
 "metadata": {
  "papermill": {
   "parameters": {}
  }
 },
 "nbformat": 4,
 "nbformat_minor": 5
}
